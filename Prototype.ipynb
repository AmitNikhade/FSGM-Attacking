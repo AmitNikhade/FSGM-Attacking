{
  "nbformat": 4,
  "nbformat_minor": 0,
  "metadata": {
    "colab": {
      "private_outputs": true,
      "provenance": [],
      "authorship_tag": "ABX9TyMi+yMvTqRmAaoVWH1rMGKv",
      "include_colab_link": true
    },
    "kernelspec": {
      "name": "python3",
      "display_name": "Python 3"
    },
    "language_info": {
      "name": "python"
    }
  },
  "cells": [
    {
      "cell_type": "markdown",
      "metadata": {
        "id": "view-in-github",
        "colab_type": "text"
      },
      "source": [
        "<a href=\"https://colab.research.google.com/github/AmitNikhade/FSGM-Attacking/blob/main/Prototype.ipynb\" target=\"_parent\"><img src=\"https://colab.research.google.com/assets/colab-badge.svg\" alt=\"Open In Colab\"/></a>"
      ]
    },
    {
      "cell_type": "markdown",
      "source": [
        "# Training MNIST classifier"
      ],
      "metadata": {
        "id": "AXeSQWZ2jN50"
      }
    },
    {
      "cell_type": "code",
      "execution_count": null,
      "metadata": {
        "id": "xfeM5lLtiwR2"
      },
      "outputs": [],
      "source": [
        "import numpy as np\n",
        "import tensorflow as tf\n",
        "from tensorflow.keras.datasets import mnist\n",
        "from tensorflow.keras.models import Sequential\n",
        "from tensorflow.keras.layers import Dense, Flatten\n",
        "# Load MNIST dataset\n",
        "(x_train, y_train), (x_test, y_test) = mnist.load_data()\n",
        "# Normalize pixel values\n",
        "x_train = x_train / 255.0\n",
        "x_test = x_test / 255.0\n",
        "# Convert labels to one-hot encoding\n",
        "y_train = tf.keras.utils.to_categorical(y_train, 10)\n",
        "y_test = tf.keras.utils.to_categorical(y_test, 10)\n",
        "# Create a simple feed-forward neural network model\n",
        "model = Sequential([\n",
        "    Flatten(input_shape=(28, 28)),\n",
        "    Dense(128, activation='relu'),\n",
        "    Dense(10, activation='softmax')\n",
        "])\n",
        "# Compile the model\n",
        "model.compile(optimizer='adam',\n",
        "              loss='categorical_crossentropy',\n",
        "              metrics=['accuracy'])\n",
        "# Train the model\n",
        "model.fit(x_train, y_train, epochs=5, batch_size=32, validation_data=(x_test, y_test))\n"
      ]
    },
    {
      "cell_type": "markdown",
      "source": [
        "# FGSM attack"
      ],
      "metadata": {
        "id": "-cacIKWpjDtD"
      }
    },
    {
      "cell_type": "code",
      "source": [
        "\n",
        "import matplotlib.pyplot as plt\n",
        "def fgsm_attack(model, x, y_true, epsilon=0.9):\n",
        "    # Compute gradients of the loss w.r.t. the input\n",
        "    with tf.GradientTape() as tape:\n",
        "        tape.watch(x)\n",
        "        predictions = model(x)\n",
        "        loss = tf.keras.losses.categorical_crossentropy(y_true, predictions)\n",
        "    gradients = tape.gradient(loss, x)\n",
        "    # Get the sign of the gradients\n",
        "    gradients_sign = tf.sign(gradients)\n",
        "    # Generate adversarial examples\n",
        "    x_adv = x + epsilon * gradients_sign\n",
        "    return x_adv\n",
        "# Select a random test sample\n",
        "index = np.random.randint(0, len(x_test))\n",
        "x_sample = x_test[index].reshape(1, 28, 28)\n",
        "y_true = y_test[index].reshape(1, 10)  # Reshape y_true to (1, 10)\n",
        "# Convert x_sample to a TensorFlow tensor\n",
        "x_sample = tf.convert_to_tensor(x_sample, dtype=tf.float32)\n",
        "# Generate adversarial example using FGSM attack\n",
        "x_adv = fgsm_attack(model, x_sample, y_true, epsilon=0.1)\n",
        "# Predict the label for the original and adversarial example\n",
        "y_pred_original = np.argmax(model.predict(x_sample), axis=-1)\n",
        "y_pred_adv = np.argmax(model.predict(x_adv), axis=-1)\n",
        "# Plot the original and adversarial images\n",
        "plt.figure(figsize=(8, 4))\n",
        "plt.subplot(1, 2, 1)\n",
        "plt.imshow(x_sample.numpy().reshape(28, 28), cmap='gray')\n",
        "plt.title(f'Original Image\\nPredicted label: {y_pred_original[0]}, True label: {np.argmax(y_true)}')\n",
        "plt.axis('off')\n",
        "plt.subplot(1, 2, 2)\n",
        "plt.imshow(x_adv.numpy().reshape(28, 28), cmap='gray')\n",
        "plt.title(f'Adversarial Image\\nPredicted label: {y_pred_adv[0]}, True label: {np.argmax(y_true)}')\n",
        "plt.axis('off')\n",
        "plt.tight_layout()\n",
        "plt.show()"
      ],
      "metadata": {
        "id": "5OFAGlUui_NR"
      },
      "execution_count": null,
      "outputs": []
    }
  ]
}